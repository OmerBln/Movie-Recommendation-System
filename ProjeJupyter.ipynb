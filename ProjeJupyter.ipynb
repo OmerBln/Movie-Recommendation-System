{
 "cells": [
  {
   "cell_type": "code",
   "execution_count": 1,
   "id": "e2d95f79",
   "metadata": {},
   "outputs": [],
   "source": [
    "import pandas as pd"
   ]
  },
  {
   "cell_type": "code",
   "execution_count": 3,
   "id": "7097ce2d",
   "metadata": {},
   "outputs": [],
   "source": [
    "data_movies= pd.read_csv(\"data/dataset.csv\")"
   ]
  },
  {
   "cell_type": "code",
   "execution_count": 4,
   "id": "ffc4ea42",
   "metadata": {},
   "outputs": [
    {
     "data": {
      "text/html": [
       "<div>\n",
       "<style scoped>\n",
       "    .dataframe tbody tr th:only-of-type {\n",
       "        vertical-align: middle;\n",
       "    }\n",
       "\n",
       "    .dataframe tbody tr th {\n",
       "        vertical-align: top;\n",
       "    }\n",
       "\n",
       "    .dataframe thead th {\n",
       "        text-align: right;\n",
       "    }\n",
       "</style>\n",
       "<table border=\"1\" class=\"dataframe\">\n",
       "  <thead>\n",
       "    <tr style=\"text-align: right;\">\n",
       "      <th></th>\n",
       "      <th>id</th>\n",
       "      <th>title</th>\n",
       "      <th>genre</th>\n",
       "      <th>original_language</th>\n",
       "      <th>overview</th>\n",
       "      <th>popularity</th>\n",
       "      <th>release_date</th>\n",
       "      <th>vote_average</th>\n",
       "      <th>vote_count</th>\n",
       "    </tr>\n",
       "  </thead>\n",
       "  <tbody>\n",
       "    <tr>\n",
       "      <th>0</th>\n",
       "      <td>278</td>\n",
       "      <td>The Shawshank Redemption</td>\n",
       "      <td>Drama,Crime</td>\n",
       "      <td>en</td>\n",
       "      <td>Framed in the 1940s for the double murder of h...</td>\n",
       "      <td>94.075</td>\n",
       "      <td>1994-09-23</td>\n",
       "      <td>8.7</td>\n",
       "      <td>21862</td>\n",
       "    </tr>\n",
       "    <tr>\n",
       "      <th>1</th>\n",
       "      <td>19404</td>\n",
       "      <td>Dilwale Dulhania Le Jayenge</td>\n",
       "      <td>Comedy,Drama,Romance</td>\n",
       "      <td>hi</td>\n",
       "      <td>Raj is a rich, carefree, happy-go-lucky second...</td>\n",
       "      <td>25.408</td>\n",
       "      <td>1995-10-19</td>\n",
       "      <td>8.7</td>\n",
       "      <td>3731</td>\n",
       "    </tr>\n",
       "  </tbody>\n",
       "</table>\n",
       "</div>"
      ],
      "text/plain": [
       "      id                        title                 genre original_language  \\\n",
       "0    278     The Shawshank Redemption           Drama,Crime                en   \n",
       "1  19404  Dilwale Dulhania Le Jayenge  Comedy,Drama,Romance                hi   \n",
       "\n",
       "                                            overview  popularity release_date  \\\n",
       "0  Framed in the 1940s for the double murder of h...      94.075   1994-09-23   \n",
       "1  Raj is a rich, carefree, happy-go-lucky second...      25.408   1995-10-19   \n",
       "\n",
       "   vote_average  vote_count  \n",
       "0           8.7       21862  \n",
       "1           8.7        3731  "
      ]
     },
     "execution_count": 4,
     "metadata": {},
     "output_type": "execute_result"
    }
   ],
   "source": [
    "data_movies.head(2)"
   ]
  },
  {
   "cell_type": "code",
   "execution_count": 15,
   "id": "aa853c46",
   "metadata": {},
   "outputs": [
    {
     "data": {
      "text/plain": [
       "0               Drama,Crime\n",
       "1      Comedy,Drama,Romance\n",
       "2               Drama,Crime\n",
       "3         Drama,History,War\n",
       "4               Drama,Crime\n",
       "               ...         \n",
       "160                   Drama\n",
       "161      Action,Crime,Drama\n",
       "162                  Comedy\n",
       "163    Drama,Thriller,Crime\n",
       "164     Crime,Drama,Mystery\n",
       "Name: genre, Length: 165, dtype: object"
      ]
     },
     "execution_count": 15,
     "metadata": {},
     "output_type": "execute_result"
    }
   ],
   "source": [
    "data_movies.head(165)[\"genre\"]"
   ]
  },
  {
   "cell_type": "code",
   "execution_count": 5,
   "id": "809bc3e8",
   "metadata": {},
   "outputs": [
    {
     "name": "stdout",
     "output_type": "stream",
     "text": [
      "Data Movies (10000, 9)\n"
     ]
    }
   ],
   "source": [
    "print(\"Data Movies\", data_movies.shape)"
   ]
  },
  {
   "cell_type": "code",
   "execution_count": 6,
   "id": "3c82b8af",
   "metadata": {},
   "outputs": [
    {
     "data": {
      "text/plain": [
       "Index(['id', 'title', 'genre', 'original_language', 'overview', 'popularity',\n",
       "       'release_date', 'vote_average', 'vote_count'],\n",
       "      dtype='object')"
      ]
     },
     "execution_count": 6,
     "metadata": {},
     "output_type": "execute_result"
    }
   ],
   "source": [
    "data_movies.columns"
   ]
  },
  {
   "cell_type": "code",
   "execution_count": 7,
   "id": "b6b52012",
   "metadata": {},
   "outputs": [],
   "source": [
    "data_movies.rename(columns = {\"id\":\"movie_id\"}, inplace = True)"
   ]
  },
  {
   "cell_type": "code",
   "execution_count": 8,
   "id": "2678a4a8",
   "metadata": {},
   "outputs": [
    {
     "data": {
      "text/plain": [
       "Index(['movie_id', 'title', 'genre', 'original_language', 'overview',\n",
       "       'popularity', 'release_date', 'vote_average', 'vote_count'],\n",
       "      dtype='object')"
      ]
     },
     "execution_count": 8,
     "metadata": {},
     "output_type": "execute_result"
    }
   ],
   "source": [
    "data_movies.columns"
   ]
  },
  {
   "cell_type": "code",
   "execution_count": 9,
   "id": "7bc35bd7",
   "metadata": {},
   "outputs": [],
   "source": [
    "data_movies['tags']=data_movies['overview']+data_movies['genre']"
   ]
  },
  {
   "cell_type": "code",
   "execution_count": 10,
   "id": "5c64d620",
   "metadata": {},
   "outputs": [
    {
     "data": {
      "text/plain": [
       "(10000, 10)"
      ]
     },
     "execution_count": 10,
     "metadata": {},
     "output_type": "execute_result"
    }
   ],
   "source": [
    "data_movies.shape"
   ]
  },
  {
   "cell_type": "code",
   "execution_count": 11,
   "id": "2867e0fc",
   "metadata": {},
   "outputs": [
    {
     "data": {
      "text/html": [
       "<div>\n",
       "<style scoped>\n",
       "    .dataframe tbody tr th:only-of-type {\n",
       "        vertical-align: middle;\n",
       "    }\n",
       "\n",
       "    .dataframe tbody tr th {\n",
       "        vertical-align: top;\n",
       "    }\n",
       "\n",
       "    .dataframe thead th {\n",
       "        text-align: right;\n",
       "    }\n",
       "</style>\n",
       "<table border=\"1\" class=\"dataframe\">\n",
       "  <thead>\n",
       "    <tr style=\"text-align: right;\">\n",
       "      <th></th>\n",
       "      <th>movie_id</th>\n",
       "      <th>title</th>\n",
       "      <th>genre</th>\n",
       "      <th>original_language</th>\n",
       "      <th>overview</th>\n",
       "      <th>popularity</th>\n",
       "      <th>release_date</th>\n",
       "      <th>vote_average</th>\n",
       "      <th>vote_count</th>\n",
       "      <th>tags</th>\n",
       "    </tr>\n",
       "  </thead>\n",
       "  <tbody>\n",
       "    <tr>\n",
       "      <th>0</th>\n",
       "      <td>278</td>\n",
       "      <td>The Shawshank Redemption</td>\n",
       "      <td>Drama,Crime</td>\n",
       "      <td>en</td>\n",
       "      <td>Framed in the 1940s for the double murder of h...</td>\n",
       "      <td>94.075</td>\n",
       "      <td>1994-09-23</td>\n",
       "      <td>8.7</td>\n",
       "      <td>21862</td>\n",
       "      <td>Framed in the 1940s for the double murder of h...</td>\n",
       "    </tr>\n",
       "    <tr>\n",
       "      <th>1</th>\n",
       "      <td>19404</td>\n",
       "      <td>Dilwale Dulhania Le Jayenge</td>\n",
       "      <td>Comedy,Drama,Romance</td>\n",
       "      <td>hi</td>\n",
       "      <td>Raj is a rich, carefree, happy-go-lucky second...</td>\n",
       "      <td>25.408</td>\n",
       "      <td>1995-10-19</td>\n",
       "      <td>8.7</td>\n",
       "      <td>3731</td>\n",
       "      <td>Raj is a rich, carefree, happy-go-lucky second...</td>\n",
       "    </tr>\n",
       "  </tbody>\n",
       "</table>\n",
       "</div>"
      ],
      "text/plain": [
       "   movie_id                        title                 genre  \\\n",
       "0       278     The Shawshank Redemption           Drama,Crime   \n",
       "1     19404  Dilwale Dulhania Le Jayenge  Comedy,Drama,Romance   \n",
       "\n",
       "  original_language                                           overview  \\\n",
       "0                en  Framed in the 1940s for the double murder of h...   \n",
       "1                hi  Raj is a rich, carefree, happy-go-lucky second...   \n",
       "\n",
       "   popularity release_date  vote_average  vote_count  \\\n",
       "0      94.075   1994-09-23           8.7       21862   \n",
       "1      25.408   1995-10-19           8.7        3731   \n",
       "\n",
       "                                                tags  \n",
       "0  Framed in the 1940s for the double murder of h...  \n",
       "1  Raj is a rich, carefree, happy-go-lucky second...  "
      ]
     },
     "execution_count": 11,
     "metadata": {},
     "output_type": "execute_result"
    }
   ],
   "source": [
    "data_movies.head(2)"
   ]
  },
  {
   "cell_type": "code",
   "execution_count": 12,
   "id": "b1a09021",
   "metadata": {},
   "outputs": [],
   "source": [
    "newrec_data=data_movies[['movie_id', 'title', 'tags','genre','original_language','release_date','overview']]"
   ]
  },
  {
   "cell_type": "code",
   "execution_count": 13,
   "id": "281fa4cc",
   "metadata": {},
   "outputs": [
    {
     "data": {
      "text/html": [
       "<div>\n",
       "<style scoped>\n",
       "    .dataframe tbody tr th:only-of-type {\n",
       "        vertical-align: middle;\n",
       "    }\n",
       "\n",
       "    .dataframe tbody tr th {\n",
       "        vertical-align: top;\n",
       "    }\n",
       "\n",
       "    .dataframe thead th {\n",
       "        text-align: right;\n",
       "    }\n",
       "</style>\n",
       "<table border=\"1\" class=\"dataframe\">\n",
       "  <thead>\n",
       "    <tr style=\"text-align: right;\">\n",
       "      <th></th>\n",
       "      <th>movie_id</th>\n",
       "      <th>title</th>\n",
       "      <th>tags</th>\n",
       "      <th>genre</th>\n",
       "      <th>original_language</th>\n",
       "      <th>release_date</th>\n",
       "      <th>overview</th>\n",
       "    </tr>\n",
       "  </thead>\n",
       "  <tbody>\n",
       "    <tr>\n",
       "      <th>0</th>\n",
       "      <td>278</td>\n",
       "      <td>The Shawshank Redemption</td>\n",
       "      <td>Framed in the 1940s for the double murder of h...</td>\n",
       "      <td>Drama,Crime</td>\n",
       "      <td>en</td>\n",
       "      <td>1994-09-23</td>\n",
       "      <td>Framed in the 1940s for the double murder of h...</td>\n",
       "    </tr>\n",
       "    <tr>\n",
       "      <th>1</th>\n",
       "      <td>19404</td>\n",
       "      <td>Dilwale Dulhania Le Jayenge</td>\n",
       "      <td>Raj is a rich, carefree, happy-go-lucky second...</td>\n",
       "      <td>Comedy,Drama,Romance</td>\n",
       "      <td>hi</td>\n",
       "      <td>1995-10-19</td>\n",
       "      <td>Raj is a rich, carefree, happy-go-lucky second...</td>\n",
       "    </tr>\n",
       "    <tr>\n",
       "      <th>2</th>\n",
       "      <td>238</td>\n",
       "      <td>The Godfather</td>\n",
       "      <td>Spanning the years 1945 to 1955, a chronicle o...</td>\n",
       "      <td>Drama,Crime</td>\n",
       "      <td>en</td>\n",
       "      <td>1972-03-14</td>\n",
       "      <td>Spanning the years 1945 to 1955, a chronicle o...</td>\n",
       "    </tr>\n",
       "  </tbody>\n",
       "</table>\n",
       "</div>"
      ],
      "text/plain": [
       "   movie_id                        title  \\\n",
       "0       278     The Shawshank Redemption   \n",
       "1     19404  Dilwale Dulhania Le Jayenge   \n",
       "2       238                The Godfather   \n",
       "\n",
       "                                                tags                 genre  \\\n",
       "0  Framed in the 1940s for the double murder of h...           Drama,Crime   \n",
       "1  Raj is a rich, carefree, happy-go-lucky second...  Comedy,Drama,Romance   \n",
       "2  Spanning the years 1945 to 1955, a chronicle o...           Drama,Crime   \n",
       "\n",
       "  original_language release_date  \\\n",
       "0                en   1994-09-23   \n",
       "1                hi   1995-10-19   \n",
       "2                en   1972-03-14   \n",
       "\n",
       "                                            overview  \n",
       "0  Framed in the 1940s for the double murder of h...  \n",
       "1  Raj is a rich, carefree, happy-go-lucky second...  \n",
       "2  Spanning the years 1945 to 1955, a chronicle o...  "
      ]
     },
     "execution_count": 13,
     "metadata": {},
     "output_type": "execute_result"
    }
   ],
   "source": [
    "newrec_data.head(3)"
   ]
  },
  {
   "cell_type": "code",
   "execution_count": 14,
   "id": "67e80f07",
   "metadata": {},
   "outputs": [],
   "source": [
    "from sklearn.feature_extraction.text import CountVectorizer"
   ]
  },
  {
   "cell_type": "code",
   "execution_count": 15,
   "id": "e501485f",
   "metadata": {},
   "outputs": [],
   "source": [
    "cv=CountVectorizer(max_features=10000, stop_words='english')"
   ]
  },
  {
   "cell_type": "code",
   "execution_count": 16,
   "id": "5ed40b9e",
   "metadata": {},
   "outputs": [
    {
     "data": {
      "text/html": [
       "<style>#sk-container-id-1 {color: black;}#sk-container-id-1 pre{padding: 0;}#sk-container-id-1 div.sk-toggleable {background-color: white;}#sk-container-id-1 label.sk-toggleable__label {cursor: pointer;display: block;width: 100%;margin-bottom: 0;padding: 0.3em;box-sizing: border-box;text-align: center;}#sk-container-id-1 label.sk-toggleable__label-arrow:before {content: \"▸\";float: left;margin-right: 0.25em;color: #696969;}#sk-container-id-1 label.sk-toggleable__label-arrow:hover:before {color: black;}#sk-container-id-1 div.sk-estimator:hover label.sk-toggleable__label-arrow:before {color: black;}#sk-container-id-1 div.sk-toggleable__content {max-height: 0;max-width: 0;overflow: hidden;text-align: left;background-color: #f0f8ff;}#sk-container-id-1 div.sk-toggleable__content pre {margin: 0.2em;color: black;border-radius: 0.25em;background-color: #f0f8ff;}#sk-container-id-1 input.sk-toggleable__control:checked~div.sk-toggleable__content {max-height: 200px;max-width: 100%;overflow: auto;}#sk-container-id-1 input.sk-toggleable__control:checked~label.sk-toggleable__label-arrow:before {content: \"▾\";}#sk-container-id-1 div.sk-estimator input.sk-toggleable__control:checked~label.sk-toggleable__label {background-color: #d4ebff;}#sk-container-id-1 div.sk-label input.sk-toggleable__control:checked~label.sk-toggleable__label {background-color: #d4ebff;}#sk-container-id-1 input.sk-hidden--visually {border: 0;clip: rect(1px 1px 1px 1px);clip: rect(1px, 1px, 1px, 1px);height: 1px;margin: -1px;overflow: hidden;padding: 0;position: absolute;width: 1px;}#sk-container-id-1 div.sk-estimator {font-family: monospace;background-color: #f0f8ff;border: 1px dotted black;border-radius: 0.25em;box-sizing: border-box;margin-bottom: 0.5em;}#sk-container-id-1 div.sk-estimator:hover {background-color: #d4ebff;}#sk-container-id-1 div.sk-parallel-item::after {content: \"\";width: 100%;border-bottom: 1px solid gray;flex-grow: 1;}#sk-container-id-1 div.sk-label:hover label.sk-toggleable__label {background-color: #d4ebff;}#sk-container-id-1 div.sk-serial::before {content: \"\";position: absolute;border-left: 1px solid gray;box-sizing: border-box;top: 0;bottom: 0;left: 50%;z-index: 0;}#sk-container-id-1 div.sk-serial {display: flex;flex-direction: column;align-items: center;background-color: white;padding-right: 0.2em;padding-left: 0.2em;position: relative;}#sk-container-id-1 div.sk-item {position: relative;z-index: 1;}#sk-container-id-1 div.sk-parallel {display: flex;align-items: stretch;justify-content: center;background-color: white;position: relative;}#sk-container-id-1 div.sk-item::before, #sk-container-id-1 div.sk-parallel-item::before {content: \"\";position: absolute;border-left: 1px solid gray;box-sizing: border-box;top: 0;bottom: 0;left: 50%;z-index: -1;}#sk-container-id-1 div.sk-parallel-item {display: flex;flex-direction: column;z-index: 1;position: relative;background-color: white;}#sk-container-id-1 div.sk-parallel-item:first-child::after {align-self: flex-end;width: 50%;}#sk-container-id-1 div.sk-parallel-item:last-child::after {align-self: flex-start;width: 50%;}#sk-container-id-1 div.sk-parallel-item:only-child::after {width: 0;}#sk-container-id-1 div.sk-dashed-wrapped {border: 1px dashed gray;margin: 0 0.4em 0.5em 0.4em;box-sizing: border-box;padding-bottom: 0.4em;background-color: white;}#sk-container-id-1 div.sk-label label {font-family: monospace;font-weight: bold;display: inline-block;line-height: 1.2em;}#sk-container-id-1 div.sk-label-container {text-align: center;}#sk-container-id-1 div.sk-container {/* jupyter's `normalize.less` sets `[hidden] { display: none; }` but bootstrap.min.css set `[hidden] { display: none !important; }` so we also need the `!important` here to be able to override the default hidden behavior on the sphinx rendered scikit-learn.org. See: https://github.com/scikit-learn/scikit-learn/issues/21755 */display: inline-block !important;position: relative;}#sk-container-id-1 div.sk-text-repr-fallback {display: none;}</style><div id=\"sk-container-id-1\" class=\"sk-top-container\"><div class=\"sk-text-repr-fallback\"><pre>CountVectorizer(max_features=10000, stop_words=&#x27;english&#x27;)</pre><b>In a Jupyter environment, please rerun this cell to show the HTML representation or trust the notebook. <br />On GitHub, the HTML representation is unable to render, please try loading this page with nbviewer.org.</b></div><div class=\"sk-container\" hidden><div class=\"sk-item\"><div class=\"sk-estimator sk-toggleable\"><input class=\"sk-toggleable__control sk-hidden--visually\" id=\"sk-estimator-id-1\" type=\"checkbox\" checked><label for=\"sk-estimator-id-1\" class=\"sk-toggleable__label sk-toggleable__label-arrow\">CountVectorizer</label><div class=\"sk-toggleable__content\"><pre>CountVectorizer(max_features=10000, stop_words=&#x27;english&#x27;)</pre></div></div></div></div></div>"
      ],
      "text/plain": [
       "CountVectorizer(max_features=10000, stop_words='english')"
      ]
     },
     "execution_count": 16,
     "metadata": {},
     "output_type": "execute_result"
    }
   ],
   "source": [
    "cv"
   ]
  },
  {
   "cell_type": "code",
   "execution_count": 17,
   "id": "61757a40",
   "metadata": {},
   "outputs": [],
   "source": [
    "vector=cv.fit_transform(newrec_data['tags'].values.astype('U')).toarray()"
   ]
  },
  {
   "cell_type": "code",
   "execution_count": 18,
   "id": "78f076dc",
   "metadata": {},
   "outputs": [
    {
     "data": {
      "text/plain": [
       "(10000, 10000)"
      ]
     },
     "execution_count": 18,
     "metadata": {},
     "output_type": "execute_result"
    }
   ],
   "source": [
    "vector.shape"
   ]
  },
  {
   "cell_type": "code",
   "execution_count": 19,
   "id": "62454e5d",
   "metadata": {},
   "outputs": [],
   "source": [
    "from sklearn.metrics.pairwise import cosine_similarity"
   ]
  },
  {
   "cell_type": "code",
   "execution_count": 20,
   "id": "9b3d8294",
   "metadata": {},
   "outputs": [],
   "source": [
    "similarity=cosine_similarity(vector)"
   ]
  },
  {
   "cell_type": "code",
   "execution_count": 21,
   "id": "1e68ac71",
   "metadata": {},
   "outputs": [
    {
     "data": {
      "text/plain": [
       "array([[1.        , 0.05634362, 0.12888482, ..., 0.07559289, 0.11065667,\n",
       "        0.06388766],\n",
       "       [0.05634362, 1.        , 0.07624929, ..., 0.        , 0.03636965,\n",
       "        0.        ],\n",
       "       [0.12888482, 0.07624929, 1.        , ..., 0.02273314, 0.06655583,\n",
       "        0.08645856],\n",
       "       ...,\n",
       "       [0.07559289, 0.        , 0.02273314, ..., 1.        , 0.03253   ,\n",
       "        0.02817181],\n",
       "       [0.11065667, 0.03636965, 0.06655583, ..., 0.03253   , 1.        ,\n",
       "        0.0412393 ],\n",
       "       [0.06388766, 0.        , 0.08645856, ..., 0.02817181, 0.0412393 ,\n",
       "        1.        ]])"
      ]
     },
     "execution_count": 21,
     "metadata": {},
     "output_type": "execute_result"
    }
   ],
   "source": [
    "similarity"
   ]
  },
  {
   "cell_type": "code",
   "execution_count": 22,
   "id": "4a01ba1f",
   "metadata": {},
   "outputs": [
    {
     "data": {
      "text/plain": [
       "2"
      ]
     },
     "execution_count": 22,
     "metadata": {},
     "output_type": "execute_result"
    }
   ],
   "source": [
    "newrec_data[newrec_data['title']==\"The Godfather\"].index[0]"
   ]
  },
  {
   "cell_type": "code",
   "execution_count": 23,
   "id": "4bb21fb4",
   "metadata": {},
   "outputs": [
    {
     "name": "stdout",
     "output_type": "stream",
     "text": [
      "The Godfather\n",
      "The Godfather: Part II\n",
      "Blood Ties\n",
      "Joker\n",
      "Bomb City\n"
     ]
    }
   ],
   "source": [
    "distance = sorted(list(enumerate(similarity[2])), reverse=True, key=lambda vector:vector[1])\n",
    "for i in distance[0:5]:\n",
    "    print(newrec_data.iloc[i[0]].title)"
   ]
  },
  {
   "cell_type": "code",
   "execution_count": 24,
   "id": "383ae457",
   "metadata": {},
   "outputs": [],
   "source": [
    "def recommand(movie_name):\n",
    "    index=newrec_data[newrec_data['title']==movie_name].index[0]\n",
    "    distance = sorted(list(enumerate(similarity[index])), reverse=True, key=lambda vector:vector[1])\n",
    "    for i in distance[0:6]:\n",
    "        print(newrec_data.iloc[i[0]].title)"
   ]
  },
  {
   "cell_type": "code",
   "execution_count": 25,
   "id": "495c3c8f",
   "metadata": {},
   "outputs": [
    {
     "name": "stdout",
     "output_type": "stream",
     "text": [
      "Batman\n",
      "Batman Returns\n",
      "The Batman vs. Dracula\n",
      "Batman Beyond: Return of the Joker\n",
      "The Dark Knight\n",
      "Batman Begins\n"
     ]
    }
   ],
   "source": [
    "recommand('Batman')"
   ]
  },
  {
   "cell_type": "code",
   "execution_count": 26,
   "id": "4b110c10",
   "metadata": {},
   "outputs": [],
   "source": [
    "import pickle"
   ]
  },
  {
   "cell_type": "code",
   "execution_count": 27,
   "id": "1a42c1f2",
   "metadata": {},
   "outputs": [],
   "source": [
    "pickle.dump(newrec_data, open('movie_list.pkl', 'wb'))"
   ]
  },
  {
   "cell_type": "code",
   "execution_count": 28,
   "id": "2a0540b0",
   "metadata": {},
   "outputs": [],
   "source": [
    "pickle.dump(similarity, open('similarity.pkl', 'wb'))"
   ]
  },
  {
   "cell_type": "code",
   "execution_count": 29,
   "id": "a98da101",
   "metadata": {},
   "outputs": [],
   "source": [
    "V = data_movies['vote_count']\n",
    "R = data_movies['vote_average']\n",
    "C = data_movies['vote_average'].mean()\n",
    "m = data_movies['vote_count'].quantile(0.75)\n",
    "\n",
    "data_movies['weighted_average'] = (V/(V+m) * R) + (m/(m+V) * C)"
   ]
  },
  {
   "cell_type": "code",
   "execution_count": 30,
   "id": "e57d5a60",
   "metadata": {},
   "outputs": [
    {
     "data": {
      "text/html": [
       "<div>\n",
       "<style scoped>\n",
       "    .dataframe tbody tr th:only-of-type {\n",
       "        vertical-align: middle;\n",
       "    }\n",
       "\n",
       "    .dataframe tbody tr th {\n",
       "        vertical-align: top;\n",
       "    }\n",
       "\n",
       "    .dataframe thead th {\n",
       "        text-align: right;\n",
       "    }\n",
       "</style>\n",
       "<table border=\"1\" class=\"dataframe\">\n",
       "  <thead>\n",
       "    <tr style=\"text-align: right;\">\n",
       "      <th></th>\n",
       "      <th>title</th>\n",
       "      <th>vote_count</th>\n",
       "      <th>vote_average</th>\n",
       "      <th>weighted_average</th>\n",
       "      <th>popularity</th>\n",
       "    </tr>\n",
       "  </thead>\n",
       "  <tbody>\n",
       "    <tr>\n",
       "      <th>0</th>\n",
       "      <td>The Shawshank Redemption</td>\n",
       "      <td>21862</td>\n",
       "      <td>8.7</td>\n",
       "      <td>8.569860</td>\n",
       "      <td>94.075</td>\n",
       "    </tr>\n",
       "    <tr>\n",
       "      <th>2</th>\n",
       "      <td>The Godfather</td>\n",
       "      <td>16280</td>\n",
       "      <td>8.7</td>\n",
       "      <td>8.528911</td>\n",
       "      <td>90.585</td>\n",
       "    </tr>\n",
       "    <tr>\n",
       "      <th>15</th>\n",
       "      <td>The Dark Knight</td>\n",
       "      <td>27925</td>\n",
       "      <td>8.5</td>\n",
       "      <td>8.406649</td>\n",
       "      <td>82.230</td>\n",
       "    </tr>\n",
       "    <tr>\n",
       "      <th>3</th>\n",
       "      <td>Schindler's List</td>\n",
       "      <td>12959</td>\n",
       "      <td>8.6</td>\n",
       "      <td>8.399631</td>\n",
       "      <td>44.761</td>\n",
       "    </tr>\n",
       "    <tr>\n",
       "      <th>17</th>\n",
       "      <td>Pulp Fiction</td>\n",
       "      <td>23481</td>\n",
       "      <td>8.5</td>\n",
       "      <td>8.390016</td>\n",
       "      <td>67.224</td>\n",
       "    </tr>\n",
       "    <tr>\n",
       "      <th>20</th>\n",
       "      <td>Forrest Gump</td>\n",
       "      <td>23009</td>\n",
       "      <td>8.5</td>\n",
       "      <td>8.387894</td>\n",
       "      <td>65.175</td>\n",
       "    </tr>\n",
       "    <tr>\n",
       "      <th>18</th>\n",
       "      <td>The Lord of the Rings: The Return of the King</td>\n",
       "      <td>19844</td>\n",
       "      <td>8.5</td>\n",
       "      <td>8.371239</td>\n",
       "      <td>134.707</td>\n",
       "    </tr>\n",
       "    <tr>\n",
       "      <th>4</th>\n",
       "      <td>The Godfather: Part II</td>\n",
       "      <td>9811</td>\n",
       "      <td>8.6</td>\n",
       "      <td>8.343668</td>\n",
       "      <td>57.749</td>\n",
       "    </tr>\n",
       "    <tr>\n",
       "      <th>13</th>\n",
       "      <td>The Green Mile</td>\n",
       "      <td>14162</td>\n",
       "      <td>8.5</td>\n",
       "      <td>8.324407</td>\n",
       "      <td>69.118</td>\n",
       "    </tr>\n",
       "    <tr>\n",
       "      <th>12</th>\n",
       "      <td>Parasite</td>\n",
       "      <td>14036</td>\n",
       "      <td>8.5</td>\n",
       "      <td>8.322979</td>\n",
       "      <td>65.147</td>\n",
       "    </tr>\n",
       "    <tr>\n",
       "      <th>54</th>\n",
       "      <td>Inception</td>\n",
       "      <td>31917</td>\n",
       "      <td>8.4</td>\n",
       "      <td>8.322188</td>\n",
       "      <td>111.757</td>\n",
       "    </tr>\n",
       "    <tr>\n",
       "      <th>49</th>\n",
       "      <td>Interstellar</td>\n",
       "      <td>28920</td>\n",
       "      <td>8.4</td>\n",
       "      <td>8.314512</td>\n",
       "      <td>191.220</td>\n",
       "    </tr>\n",
       "    <tr>\n",
       "      <th>6</th>\n",
       "      <td>Spirited Away</td>\n",
       "      <td>13093</td>\n",
       "      <td>8.5</td>\n",
       "      <td>8.311508</td>\n",
       "      <td>92.056</td>\n",
       "    </tr>\n",
       "    <tr>\n",
       "      <th>33</th>\n",
       "      <td>Fight Club</td>\n",
       "      <td>24441</td>\n",
       "      <td>8.4</td>\n",
       "      <td>8.299729</td>\n",
       "      <td>58.676</td>\n",
       "    </tr>\n",
       "    <tr>\n",
       "      <th>45</th>\n",
       "      <td>The Lord of the Rings: The Fellowship of the Ring</td>\n",
       "      <td>21207</td>\n",
       "      <td>8.4</td>\n",
       "      <td>8.285423</td>\n",
       "      <td>168.448</td>\n",
       "    </tr>\n",
       "    <tr>\n",
       "      <th>25</th>\n",
       "      <td>Life Is Beautiful</td>\n",
       "      <td>11179</td>\n",
       "      <td>8.5</td>\n",
       "      <td>8.282964</td>\n",
       "      <td>55.527</td>\n",
       "    </tr>\n",
       "    <tr>\n",
       "      <th>51</th>\n",
       "      <td>The Lord of the Rings: The Two Towers</td>\n",
       "      <td>18370</td>\n",
       "      <td>8.4</td>\n",
       "      <td>8.269031</td>\n",
       "      <td>162.716</td>\n",
       "    </tr>\n",
       "    <tr>\n",
       "      <th>23</th>\n",
       "      <td>GoodFellas</td>\n",
       "      <td>10294</td>\n",
       "      <td>8.5</td>\n",
       "      <td>8.266622</td>\n",
       "      <td>50.387</td>\n",
       "    </tr>\n",
       "    <tr>\n",
       "      <th>60</th>\n",
       "      <td>Se7en</td>\n",
       "      <td>17351</td>\n",
       "      <td>8.4</td>\n",
       "      <td>8.261936</td>\n",
       "      <td>47.045</td>\n",
       "    </tr>\n",
       "    <tr>\n",
       "      <th>42</th>\n",
       "      <td>The Empire Strikes Back</td>\n",
       "      <td>14384</td>\n",
       "      <td>8.4</td>\n",
       "      <td>8.236082</td>\n",
       "      <td>28.323</td>\n",
       "    </tr>\n",
       "  </tbody>\n",
       "</table>\n",
       "</div>"
      ],
      "text/plain": [
       "                                                title  vote_count  \\\n",
       "0                            The Shawshank Redemption       21862   \n",
       "2                                       The Godfather       16280   \n",
       "15                                    The Dark Knight       27925   \n",
       "3                                    Schindler's List       12959   \n",
       "17                                       Pulp Fiction       23481   \n",
       "20                                       Forrest Gump       23009   \n",
       "18      The Lord of the Rings: The Return of the King       19844   \n",
       "4                              The Godfather: Part II        9811   \n",
       "13                                     The Green Mile       14162   \n",
       "12                                           Parasite       14036   \n",
       "54                                          Inception       31917   \n",
       "49                                       Interstellar       28920   \n",
       "6                                       Spirited Away       13093   \n",
       "33                                         Fight Club       24441   \n",
       "45  The Lord of the Rings: The Fellowship of the Ring       21207   \n",
       "25                                  Life Is Beautiful       11179   \n",
       "51              The Lord of the Rings: The Two Towers       18370   \n",
       "23                                         GoodFellas       10294   \n",
       "60                                              Se7en       17351   \n",
       "42                            The Empire Strikes Back       14384   \n",
       "\n",
       "    vote_average  weighted_average  popularity  \n",
       "0            8.7          8.569860      94.075  \n",
       "2            8.7          8.528911      90.585  \n",
       "15           8.5          8.406649      82.230  \n",
       "3            8.6          8.399631      44.761  \n",
       "17           8.5          8.390016      67.224  \n",
       "20           8.5          8.387894      65.175  \n",
       "18           8.5          8.371239     134.707  \n",
       "4            8.6          8.343668      57.749  \n",
       "13           8.5          8.324407      69.118  \n",
       "12           8.5          8.322979      65.147  \n",
       "54           8.4          8.322188     111.757  \n",
       "49           8.4          8.314512     191.220  \n",
       "6            8.5          8.311508      92.056  \n",
       "33           8.4          8.299729      58.676  \n",
       "45           8.4          8.285423     168.448  \n",
       "25           8.5          8.282964      55.527  \n",
       "51           8.4          8.269031     162.716  \n",
       "23           8.5          8.266622      50.387  \n",
       "60           8.4          8.261936      47.045  \n",
       "42           8.4          8.236082      28.323  "
      ]
     },
     "execution_count": 30,
     "metadata": {},
     "output_type": "execute_result"
    }
   ],
   "source": [
    "movies_ranked = data_movies.sort_values('weighted_average', ascending=False)\n",
    "movies_ranked[['title', 'vote_count', 'vote_average', 'weighted_average', 'popularity']].head(20)"
   ]
  },
  {
   "cell_type": "code",
   "execution_count": 31,
   "id": "94081d99",
   "metadata": {},
   "outputs": [],
   "source": [
    "pickle.dump(data_movies, open('alldata.pkl', 'wb'))"
   ]
  },
  {
   "cell_type": "code",
   "execution_count": 32,
   "id": "865e325c",
   "metadata": {},
   "outputs": [],
   "source": [
    "data_genre=data_movies[[\"genre\"]]"
   ]
  },
  {
   "cell_type": "code",
   "execution_count": 33,
   "id": "ad9cefd3",
   "metadata": {},
   "outputs": [
    {
     "data": {
      "text/plain": [
       "0             Drama,Crime\n",
       "1    Comedy,Drama,Romance\n",
       "2             Drama,Crime\n",
       "3       Drama,History,War\n",
       "4             Drama,Crime\n",
       "Name: genre, dtype: object"
      ]
     },
     "execution_count": 33,
     "metadata": {},
     "output_type": "execute_result"
    }
   ],
   "source": [
    "data_genre.head()[\"genre\"]"
   ]
  },
  {
   "cell_type": "code",
   "execution_count": 34,
   "id": "999d68a0",
   "metadata": {},
   "outputs": [],
   "source": [
    "split_genre = data_genre['genre'].str.split(',', expand=True).stack().reset_index(level=1, drop=True).rename('new_genre')\n",
    "\n",
    "final_genre = data_movies.drop('genre', axis=1).join(split_genre)"
   ]
  },
  {
   "cell_type": "code",
   "execution_count": 35,
   "id": "29949149",
   "metadata": {},
   "outputs": [
    {
     "data": {
      "text/html": [
       "<div>\n",
       "<style scoped>\n",
       "    .dataframe tbody tr th:only-of-type {\n",
       "        vertical-align: middle;\n",
       "    }\n",
       "\n",
       "    .dataframe tbody tr th {\n",
       "        vertical-align: top;\n",
       "    }\n",
       "\n",
       "    .dataframe thead th {\n",
       "        text-align: right;\n",
       "    }\n",
       "</style>\n",
       "<table border=\"1\" class=\"dataframe\">\n",
       "  <thead>\n",
       "    <tr style=\"text-align: right;\">\n",
       "      <th></th>\n",
       "      <th>movie_id</th>\n",
       "      <th>title</th>\n",
       "      <th>original_language</th>\n",
       "      <th>overview</th>\n",
       "      <th>popularity</th>\n",
       "      <th>release_date</th>\n",
       "      <th>vote_average</th>\n",
       "      <th>vote_count</th>\n",
       "      <th>tags</th>\n",
       "      <th>weighted_average</th>\n",
       "      <th>new_genre</th>\n",
       "    </tr>\n",
       "  </thead>\n",
       "  <tbody>\n",
       "    <tr>\n",
       "      <th>0</th>\n",
       "      <td>278</td>\n",
       "      <td>The Shawshank Redemption</td>\n",
       "      <td>en</td>\n",
       "      <td>Framed in the 1940s for the double murder of h...</td>\n",
       "      <td>94.075</td>\n",
       "      <td>1994-09-23</td>\n",
       "      <td>8.7</td>\n",
       "      <td>21862</td>\n",
       "      <td>Framed in the 1940s for the double murder of h...</td>\n",
       "      <td>8.569860</td>\n",
       "      <td>Drama</td>\n",
       "    </tr>\n",
       "    <tr>\n",
       "      <th>0</th>\n",
       "      <td>278</td>\n",
       "      <td>The Shawshank Redemption</td>\n",
       "      <td>en</td>\n",
       "      <td>Framed in the 1940s for the double murder of h...</td>\n",
       "      <td>94.075</td>\n",
       "      <td>1994-09-23</td>\n",
       "      <td>8.7</td>\n",
       "      <td>21862</td>\n",
       "      <td>Framed in the 1940s for the double murder of h...</td>\n",
       "      <td>8.569860</td>\n",
       "      <td>Crime</td>\n",
       "    </tr>\n",
       "    <tr>\n",
       "      <th>1</th>\n",
       "      <td>19404</td>\n",
       "      <td>Dilwale Dulhania Le Jayenge</td>\n",
       "      <td>hi</td>\n",
       "      <td>Raj is a rich, carefree, happy-go-lucky second...</td>\n",
       "      <td>25.408</td>\n",
       "      <td>1995-10-19</td>\n",
       "      <td>8.7</td>\n",
       "      <td>3731</td>\n",
       "      <td>Raj is a rich, carefree, happy-go-lucky second...</td>\n",
       "      <td>8.115311</td>\n",
       "      <td>Comedy</td>\n",
       "    </tr>\n",
       "    <tr>\n",
       "      <th>1</th>\n",
       "      <td>19404</td>\n",
       "      <td>Dilwale Dulhania Le Jayenge</td>\n",
       "      <td>hi</td>\n",
       "      <td>Raj is a rich, carefree, happy-go-lucky second...</td>\n",
       "      <td>25.408</td>\n",
       "      <td>1995-10-19</td>\n",
       "      <td>8.7</td>\n",
       "      <td>3731</td>\n",
       "      <td>Raj is a rich, carefree, happy-go-lucky second...</td>\n",
       "      <td>8.115311</td>\n",
       "      <td>Drama</td>\n",
       "    </tr>\n",
       "    <tr>\n",
       "      <th>1</th>\n",
       "      <td>19404</td>\n",
       "      <td>Dilwale Dulhania Le Jayenge</td>\n",
       "      <td>hi</td>\n",
       "      <td>Raj is a rich, carefree, happy-go-lucky second...</td>\n",
       "      <td>25.408</td>\n",
       "      <td>1995-10-19</td>\n",
       "      <td>8.7</td>\n",
       "      <td>3731</td>\n",
       "      <td>Raj is a rich, carefree, happy-go-lucky second...</td>\n",
       "      <td>8.115311</td>\n",
       "      <td>Romance</td>\n",
       "    </tr>\n",
       "  </tbody>\n",
       "</table>\n",
       "</div>"
      ],
      "text/plain": [
       "   movie_id                        title original_language  \\\n",
       "0       278     The Shawshank Redemption                en   \n",
       "0       278     The Shawshank Redemption                en   \n",
       "1     19404  Dilwale Dulhania Le Jayenge                hi   \n",
       "1     19404  Dilwale Dulhania Le Jayenge                hi   \n",
       "1     19404  Dilwale Dulhania Le Jayenge                hi   \n",
       "\n",
       "                                            overview  popularity release_date  \\\n",
       "0  Framed in the 1940s for the double murder of h...      94.075   1994-09-23   \n",
       "0  Framed in the 1940s for the double murder of h...      94.075   1994-09-23   \n",
       "1  Raj is a rich, carefree, happy-go-lucky second...      25.408   1995-10-19   \n",
       "1  Raj is a rich, carefree, happy-go-lucky second...      25.408   1995-10-19   \n",
       "1  Raj is a rich, carefree, happy-go-lucky second...      25.408   1995-10-19   \n",
       "\n",
       "   vote_average  vote_count  \\\n",
       "0           8.7       21862   \n",
       "0           8.7       21862   \n",
       "1           8.7        3731   \n",
       "1           8.7        3731   \n",
       "1           8.7        3731   \n",
       "\n",
       "                                                tags  weighted_average  \\\n",
       "0  Framed in the 1940s for the double murder of h...          8.569860   \n",
       "0  Framed in the 1940s for the double murder of h...          8.569860   \n",
       "1  Raj is a rich, carefree, happy-go-lucky second...          8.115311   \n",
       "1  Raj is a rich, carefree, happy-go-lucky second...          8.115311   \n",
       "1  Raj is a rich, carefree, happy-go-lucky second...          8.115311   \n",
       "\n",
       "  new_genre  \n",
       "0     Drama  \n",
       "0     Crime  \n",
       "1    Comedy  \n",
       "1     Drama  \n",
       "1   Romance  "
      ]
     },
     "execution_count": 35,
     "metadata": {},
     "output_type": "execute_result"
    }
   ],
   "source": [
    "final_genre.head()"
   ]
  },
  {
   "cell_type": "code",
   "execution_count": 36,
   "id": "1e42bd2b",
   "metadata": {},
   "outputs": [],
   "source": [
    "pickle.dump(final_genre, open('finalgenre.pkl','wb'))"
   ]
  },
  {
   "cell_type": "code",
   "execution_count": 37,
   "id": "af9cc68e",
   "metadata": {},
   "outputs": [
    {
     "data": {
      "text/plain": [
       "0         Drama\n",
       "0         Crime\n",
       "1        Comedy\n",
       "1         Drama\n",
       "1       Romance\n",
       "        ...    \n",
       "28       Horror\n",
       "28        Drama\n",
       "28     Thriller\n",
       "29    Animation\n",
       "29        Drama\n",
       "Name: new_genre, Length: 70, dtype: object"
      ]
     },
     "execution_count": 37,
     "metadata": {},
     "output_type": "execute_result"
    }
   ],
   "source": [
    "final_genre.head(70)[\"new_genre\"]"
   ]
  },
  {
   "cell_type": "code",
   "execution_count": null,
   "id": "21acc758",
   "metadata": {},
   "outputs": [],
   "source": []
  },
  {
   "cell_type": "code",
   "execution_count": null,
   "id": "31201633",
   "metadata": {},
   "outputs": [],
   "source": []
  }
 ],
 "metadata": {
  "kernelspec": {
   "display_name": "Python 3 (ipykernel)",
   "language": "python",
   "name": "python3"
  },
  "language_info": {
   "codemirror_mode": {
    "name": "ipython",
    "version": 3
   },
   "file_extension": ".py",
   "mimetype": "text/x-python",
   "name": "python",
   "nbconvert_exporter": "python",
   "pygments_lexer": "ipython3",
   "version": "3.11.5"
  }
 },
 "nbformat": 4,
 "nbformat_minor": 5
}
